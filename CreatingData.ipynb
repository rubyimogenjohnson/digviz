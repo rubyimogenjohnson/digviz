{
 "cells": [
  {
   "cell_type": "code",
   "execution_count": 1,
   "id": "3a54f32a-8d1d-4752-933a-97aeb17bf00f",
   "metadata": {},
   "outputs": [],
   "source": [
    "import geopandas as gpd\n",
    "import pandas as pd\n",
    "import json\n",
    "import matplotlib.pyplot as plt\n",
    "from matplotlib.pyplot import figure"
   ]
  },
  {
   "cell_type": "markdown",
   "id": "cc84fdaa-cda3-4d8e-90bb-977be14e79a4",
   "metadata": {},
   "source": [
    "# 1. Create European countries shapefile with visa rules"
   ]
  },
  {
   "cell_type": "code",
   "execution_count": 2,
   "id": "895c16dc-ea19-4b9a-adcc-a93b9b4982e2",
   "metadata": {},
   "outputs": [],
   "source": [
    "f = open('Visa_rules.json')\n",
    "data = json.load(f)"
   ]
  },
  {
   "cell_type": "code",
   "execution_count": 3,
   "id": "4bb428bc-6560-4a0b-8105-31e62c20081a",
   "metadata": {},
   "outputs": [
    {
     "name": "stdout",
     "output_type": "stream",
     "text": [
      "\"No change\",\n",
      "\"No change\",\n",
      "\"No change\",\n",
      "\"EU directive: All Ukrainian refugees can remain for up to three years without having to apply for asylum first.\",\n",
      "\"No change\",\n",
      "\"No change\",\n",
      "\"EU directive: All Ukrainian refugees can remain for up to three years without having to apply for asylum first.\",\n",
      "\"No change\",\n",
      "\"EU directive: All Ukrainian refugees can remain for up to three years without having to apply for asylum first.\",\n",
      "\"EU directive: All Ukrainian refugees can remain for up to three years without having to apply for asylum first.\",\n",
      "\"EU directive: All Ukrainian refugees can remain for up to three years without having to apply for asylum first.\",\n",
      "\"EU directive: All Ukrainian refugees can remain for up to three years without having to apply for asylum first.\",\n",
      "\"EU directive: All Ukrainian refugees can remain for up to three years without having to apply for asylum first.\",\n",
      "\"EU directive: All Ukrainian refugees can remain for up to three years without having to apply for asylum first.\",\n",
      "\"EU directive: All Ukrainian refugees can remain for up to three years without having to apply for asylum first.\",\n",
      "\"EU directive: All Ukrainian refugees can remain for up to three years without having to apply for asylum first.\",\n",
      "\"No change\",\n",
      "\"EU directive: All Ukrainian refugees can remain for up to three years without having to apply for asylum first.\",\n",
      "\"EU directive: All Ukrainian refugees can remain for up to three years without having to apply for asylum first.\",\n",
      "\"Ukrainian nationals can enter without paperwork\",\n",
      "\"Prioritising Ukrainian asylum applications\",\n",
      "\"EU directive: All Ukrainian refugees can remain for up to three years without having to apply for asylum first.\",\n",
      "\"EU directive: All Ukrainian refugees can remain for up to three years without having to apply for asylum first.\",\n",
      "\"No change\",\n",
      "\"EU directive: All Ukrainian refugees can remain for up to three years without having to apply for asylum first.\",\n",
      "\"No change\",\n",
      "\"EU directive: All Ukrainian refugees can remain for up to three years without having to apply for asylum first.\",\n",
      "\"EU directive: All Ukrainian refugees can remain for up to three years without having to apply for asylum first.\",\n",
      "\"EU directive: All Ukrainian refugees can remain for up to three years without having to apply for asylum first.\",\n",
      "\"Ukrainian nationals can enter without paperwork\",\n",
      "\"No change\",\n",
      "\"EU directive: All Ukrainian refugees can remain for up to three years without having to apply for asylum first.\",\n",
      "\"EU directive: All Ukrainian refugees can remain for up to three years without having to apply for asylum first.\",\n",
      "\"EU directive: All Ukrainian refugees can remain for up to three years without having to apply for asylum first.\",\n",
      "\"EU directive: All Ukrainian refugees can remain for up to three years without having to apply for asylum first.\",\n",
      "\"No change\",\n",
      "\"Ukrainian nationals can enter without paperwork\",\n",
      "\"EU directive: All Ukrainian refugees can remain for up to three years without having to apply for asylum first.\",\n",
      "\"No change\",\n",
      "\"Ukrainian nationals can enter without paperwork\",\n",
      "\"No change\",\n",
      "\"No change\",\n",
      "\"Ukrainian nationals can enter without paperwork\",\n",
      "\"EU directive: All Ukrainian refugees can remain for up to three years without having to apply for asylum first.\",\n",
      "\"EU directive: All Ukrainian refugees can remain for up to three years without having to apply for asylum first.\",\n",
      "\"EU directive: All Ukrainian refugees can remain for up to three years without having to apply for asylum first.\",\n",
      "\"No change\",\n",
      "\"No change\",\n",
      "\"\",\n",
      "\"Relaxing visa requirements for close relatives.\",\n"
     ]
    }
   ],
   "source": [
    "# Print visa rules \n",
    "\n",
    "for each in data['choropleth']:\n",
    "    print('\"' + str(each['value'][0]) + '\",')"
   ]
  },
  {
   "cell_type": "code",
   "execution_count": 4,
   "id": "841f411e-979f-4872-99e5-d3e35304a698",
   "metadata": {},
   "outputs": [],
   "source": [
    "visarules = [\"No change\",\n",
    "\"No change\",\n",
    "\"No change\",\n",
    "\"EU directive: All Ukrainian refugees can remain for up to three years without having to apply for asylum first.\",\n",
    "\"No change\",\n",
    "\"No change\",\n",
    "\"EU directive: All Ukrainian refugees can remain for up to three years without having to apply for asylum first.\",\n",
    "\"No change\",\n",
    "\"EU directive: All Ukrainian refugees can remain for up to three years without having to apply for asylum first.\",\n",
    "\"EU directive: All Ukrainian refugees can remain for up to three years without having to apply for asylum first.\",\n",
    "\"EU directive: All Ukrainian refugees can remain for up to three years without having to apply for asylum first.\",\n",
    "\"EU directive: All Ukrainian refugees can remain for up to three years without having to apply for asylum first.\",\n",
    "\"EU directive: All Ukrainian refugees can remain for up to three years without having to apply for asylum first.\",\n",
    "\"EU directive: All Ukrainian refugees can remain for up to three years without having to apply for asylum first.\",\n",
    "\"EU directive: All Ukrainian refugees can remain for up to three years without having to apply for asylum first.\",\n",
    "\"EU directive: All Ukrainian refugees can remain for up to three years without having to apply for asylum first.\",\n",
    "\"No change\",\n",
    "\"EU directive: All Ukrainian refugees can remain for up to three years without having to apply for asylum first.\",\n",
    "\"EU directive: All Ukrainian refugees can remain for up to three years without having to apply for asylum first.\",\n",
    "\"Ukrainian nationals can enter without paperwork\",\n",
    "\"Prioritising Ukrainian asylum applications\",\n",
    "\"EU directive: All Ukrainian refugees can remain for up to three years without having to apply for asylum first.\",\n",
    "\"EU directive: All Ukrainian refugees can remain for up to three years without having to apply for asylum first.\",\n",
    "\"No change\",\n",
    "\"EU directive: All Ukrainian refugees can remain for up to three years without having to apply for asylum first.\",\n",
    "\"No change\",\n",
    "\"EU directive: All Ukrainian refugees can remain for up to three years without having to apply for asylum first.\",\n",
    "\"EU directive: All Ukrainian refugees can remain for up to three years without having to apply for asylum first.\",\n",
    "\"EU directive: All Ukrainian refugees can remain for up to three years without having to apply for asylum first.\",\n",
    "\"Ukrainian nationals can enter without paperwork\",\n",
    "\"No change\",\n",
    "\"EU directive: All Ukrainian refugees can remain for up to three years without having to apply for asylum first.\",\n",
    "\"EU directive: All Ukrainian refugees can remain for up to three years without having to apply for asylum first.\",\n",
    "\"EU directive: All Ukrainian refugees can remain for up to three years without having to apply for asylum first.\",\n",
    "\"EU directive: All Ukrainian refugees can remain for up to three years without having to apply for asylum first.\",\n",
    "\"No change\",\n",
    "\"Ukrainian nationals can enter without paperwork\",\n",
    "\"EU directive: All Ukrainian refugees can remain for up to three years without having to apply for asylum first.\",\n",
    "\"No change\",\n",
    "\"Ukrainian nationals can enter without paperwork\",\n",
    "\"No change\",\n",
    "\"No change\",\n",
    "\"Ukrainian nationals can enter without paperwork\",\n",
    "\"EU directive: All Ukrainian refugees can remain for up to three years without having to apply for asylum first.\",\n",
    "\"EU directive: All Ukrainian refugees can remain for up to three years without having to apply for asylum first.\",\n",
    "\"EU directive: All Ukrainian refugees can remain for up to three years without having to apply for asylum first.\",\n",
    "\"No change\",\n",
    "\"No change\",\n",
    "\"\",\n",
    "\"Relaxing visa requirements for close relatives.\",\n",
    "\"No change\"]"
   ]
  },
  {
   "cell_type": "code",
   "execution_count": 5,
   "id": "5c280536-7014-4744-bad0-68d4dd45695f",
   "metadata": {},
   "outputs": [
    {
     "name": "stdout",
     "output_type": "stream",
     "text": [
      "\"Albania\",\n",
      "\"Andorra\",\n",
      "\"Armenia\",\n",
      "\"Austria\",\n",
      "\"Azerbaijan\",\n",
      "\"Belarus\",\n",
      "\"Belgium\",\n",
      "\"Bosnia and Herzegovina\",\n",
      "\"Bulgaria\",\n",
      "\"Croatia\",\n",
      "\"Cyprus\",\n",
      "\"Czech Republic\",\n",
      "\"Denmark\",\n",
      "\"Estonia\",\n",
      "\"Finland\",\n",
      "\"France\",\n",
      "\"Georgia\",\n",
      "\"Germany\",\n",
      "\"Greece\",\n",
      "\"Hungary\",\n",
      "\"Iceland\",\n",
      "\"Ireland\",\n",
      "\"Italy\",\n",
      "\"Kosovo\",\n",
      "\"Latvia\",\n",
      "\"Liechtenstein\",\n",
      "\"Lithuania\",\n",
      "\"Luxembourg\",\n",
      "\"Malta\",\n",
      "\"Moldova\",\n",
      "\"Montenegro\",\n",
      "\"Netherlands\",\n",
      "\"Netherlands\",\n",
      "\"Netherlands\",\n",
      "\"Netherlands\",\n",
      "\"Norway\",\n",
      "\"Poland\",\n",
      "\"Portugal\",\n",
      "\"North Macedonia\",\n",
      "\"Romania\",\n",
      "\"San Marino\",\n",
      "\"Serbia\",\n",
      "\"Slovakia\",\n",
      "\"Slovenia\",\n",
      "\"Spain\",\n",
      "\"Sweden\",\n",
      "\"Switzerland\",\n",
      "\"Turkey\",\n",
      "\"Ukraine\",\n",
      "\"United Kingdom\",\n"
     ]
    }
   ],
   "source": [
    "# Print countries\n",
    "\n",
    "for each in data['choropleth']:\n",
    "    print('\"' + str(each['name']) + '\",')"
   ]
  },
  {
   "cell_type": "code",
   "execution_count": 6,
   "id": "7282e593-4ec6-4ac2-b8eb-2aafc11aa244",
   "metadata": {},
   "outputs": [],
   "source": [
    "countries = [\"Albania\",\n",
    "\"Andorra\",\n",
    "\"Armenia\",\n",
    "\"Austria\",\n",
    "\"Azerbaijan\",\n",
    "\"Belarus\",\n",
    "\"Belgium\",\n",
    "\"Bosnia and Herz.\",\n",
    "\"Bulgaria\",\n",
    "\"Croatia\",\n",
    "\"Cyprus\",\n",
    "\"Czechia\",\n",
    "\"Denmark\",\n",
    "\"Estonia\",\n",
    "\"Finland\",\n",
    "\"France\",\n",
    "\"Georgia\",\n",
    "\"Germany\",\n",
    "\"Greece\",\n",
    "\"Hungary\",\n",
    "\"Iceland\",\n",
    "\"Ireland\",\n",
    "\"Italy\",\n",
    "\"Kosovo\",\n",
    "\"Latvia\",\n",
    "\"Liechtenstein\",\n",
    "\"Lithuania\",\n",
    "\"Luxembourg\",\n",
    "\"Malta\",\n",
    "\"Moldova\",\n",
    "\"Montenegro\",\n",
    "\"Netherlands\",\n",
    "\"Netherlands\",\n",
    "\"Netherlands\",\n",
    "\"Netherlands\",\n",
    "\"Norway\",\n",
    "\"Poland\",\n",
    "\"Portugal\",\n",
    "\"Macedonia\",\n",
    "\"Romania\",\n",
    "\"San Marino\",\n",
    "\"Serbia\",\n",
    "\"Slovakia\",\n",
    "\"Slovenia\",\n",
    "\"Spain\",\n",
    "\"Sweden\",\n",
    "\"Switzerland\",\n",
    "\"Turkey\",\n",
    "\"Ukraine\",\n",
    "\"United Kingdom\",\n",
    "\"Russia\"]"
   ]
  },
  {
   "cell_type": "code",
   "execution_count": 7,
   "id": "a435a98c-7dec-4088-9eb7-3e856ee0ac72",
   "metadata": {},
   "outputs": [],
   "source": [
    "# Merge into one dataframe\n",
    "\n",
    "visa = pd.DataFrame(\n",
    "    {'name': countries,\n",
    "     'visa': visarules\n",
    "    })"
   ]
  },
  {
   "cell_type": "code",
   "execution_count": 8,
   "id": "7ddad9f7-cdb4-489c-abaf-bbabfd46834d",
   "metadata": {},
   "outputs": [],
   "source": [
    "# Load world data\n",
    "\n",
    "world = gpd.read_file(gpd.datasets.get_path('naturalearth_lowres'))"
   ]
  },
  {
   "cell_type": "code",
   "execution_count": 9,
   "id": "d8916afe-4538-4f49-8866-f1139725f8c4",
   "metadata": {},
   "outputs": [],
   "source": [
    "# Filter to countries \n",
    "\n",
    "shape = world[world[\"name\"].isin(countries)]"
   ]
  },
  {
   "cell_type": "code",
   "execution_count": 10,
   "id": "b5c95f19-26c1-4a9b-8c8b-fdd29f5870a9",
   "metadata": {},
   "outputs": [
    {
     "name": "stderr",
     "output_type": "stream",
     "text": [
      "/tmp/ipykernel_119/175630696.py:3: UserWarning: Geometry is in a geographic CRS. Results from 'centroid' are likely incorrect. Use 'GeoSeries.to_crs()' to re-project geometries to a projected CRS before this operation.\n",
      "\n",
      "  shape[\"Longitude\"] = shape.centroid.map(lambda p: p.x)\n",
      "/opt/conda/envs/sds2021/lib/python3.9/site-packages/pandas/core/frame.py:3607: SettingWithCopyWarning: \n",
      "A value is trying to be set on a copy of a slice from a DataFrame.\n",
      "Try using .loc[row_indexer,col_indexer] = value instead\n",
      "\n",
      "See the caveats in the documentation: https://pandas.pydata.org/pandas-docs/stable/user_guide/indexing.html#returning-a-view-versus-a-copy\n",
      "  self._set_item(key, value)\n",
      "/tmp/ipykernel_119/175630696.py:4: UserWarning: Geometry is in a geographic CRS. Results from 'centroid' are likely incorrect. Use 'GeoSeries.to_crs()' to re-project geometries to a projected CRS before this operation.\n",
      "\n",
      "  shape[\"Latitude\"] = shape.centroid.map(lambda p: p.y)\n",
      "/opt/conda/envs/sds2021/lib/python3.9/site-packages/pandas/core/frame.py:3607: SettingWithCopyWarning: \n",
      "A value is trying to be set on a copy of a slice from a DataFrame.\n",
      "Try using .loc[row_indexer,col_indexer] = value instead\n",
      "\n",
      "See the caveats in the documentation: https://pandas.pydata.org/pandas-docs/stable/user_guide/indexing.html#returning-a-view-versus-a-copy\n",
      "  self._set_item(key, value)\n"
     ]
    }
   ],
   "source": [
    "# Get centroids of each country \n",
    "\n",
    "shape[\"Longitude\"] = shape.centroid.map(lambda p: p.x)\n",
    "shape[\"Latitude\"] = shape.centroid.map(lambda p: p.y)"
   ]
  },
  {
   "cell_type": "code",
   "execution_count": 11,
   "id": "01fdda76-da01-4db3-9b39-a5026868cc1e",
   "metadata": {},
   "outputs": [],
   "source": [
    "# Add intake data\n",
    "\n",
    "countries = [\"Poland\",\"Hungary\",\"Slovakia\", \"Russia\", \"Romania\", \"Moldova\",\"Belarus\"]\n",
    "intake = [\"1294903\", \"203222\", \"153303\",\"99300\",\"85444\",\"82762\",\"592\"]\n",
    "\n",
    "refintake = pd.DataFrame(\n",
    "    {'name': countries,\n",
    "     'intake': intake\n",
    "    })"
   ]
  },
  {
   "cell_type": "code",
   "execution_count": 12,
   "id": "3cc516cd-0346-47dc-b24b-5648ed3a39d8",
   "metadata": {},
   "outputs": [],
   "source": [
    "# Merge\n",
    "\n",
    "shape = pd.merge(shape, refintake, on=\"name\", how=\"outer\")\n",
    "shape = pd.merge(shape, visa, on=\"name\", how=\"outer\")"
   ]
  },
  {
   "cell_type": "code",
   "execution_count": 13,
   "id": "b0562ddc-b298-40cd-b8ec-8d5571512b0e",
   "metadata": {},
   "outputs": [],
   "source": [
    "# Make nan values 0\n",
    "\n",
    "shape['intake'] = shape['intake'].fillna(0)"
   ]
  },
  {
   "cell_type": "code",
   "execution_count": 14,
   "id": "8ba5c53b-3cef-4e03-a102-ffeec7ad4040",
   "metadata": {},
   "outputs": [
    {
     "data": {
      "text/plain": [
       "<AxesSubplot:>"
      ]
     },
     "execution_count": 14,
     "metadata": {},
     "output_type": "execute_result"
    },
    {
     "data": {
      "image/png": "[encoded data removed]",
      "text/plain": [
       "<Figure size 432x288 with 1 Axes>"
      ]
     },
     "metadata": {
      "needs_background": "light"
     },
     "output_type": "display_data"
    }
   ],
   "source": [
    "# Plot\n",
    "\n",
    "fig, ax = plt.subplots(1,1)\n",
    "shape.plot(ax=ax, figsize=(30,30))"
   ]
  },
  {
   "cell_type": "code",
   "execution_count": 15,
   "id": "0bcd3b77-f91d-474e-8526-0d68c96e4d72",
   "metadata": {},
   "outputs": [],
   "source": [
    "# Save as shapefile\n",
    "\n",
    "shape.to_file(\"data.shp\")"
   ]
  },
  {
   "cell_type": "code",
   "execution_count": 16,
   "id": "63b64f2d-c3e2-4342-8e7d-27a0b1ca42c9",
   "metadata": {},
   "outputs": [],
   "source": [
    "# Make GeoJson\n",
    "\n",
    "shape.to_file(\"datajson.geojson\", driver='GeoJSON')"
   ]
  },
  {
   "cell_type": "markdown",
   "id": "c4c3310a-f740-41d1-bfe0-e3e785346661",
   "metadata": {},
   "source": [
    "# 2. Creating geojson with just intake data"
   ]
  },
  {
   "cell_type": "code",
   "execution_count": 17,
   "id": "d1a291fd-d2f3-42b6-86e9-76119621831b",
   "metadata": {},
   "outputs": [
    {
     "name": "stderr",
     "output_type": "stream",
     "text": [
      "/tmp/ipykernel_119/3286082609.py:2: UserWarning: Geometry is in a geographic CRS. Results from 'centroid' are likely incorrect. Use 'GeoSeries.to_crs()' to re-project geometries to a projected CRS before this operation.\n",
      "\n",
      "  intakedf['centroid_col'] = intakedf.centroid\n",
      "/opt/conda/envs/sds2021/lib/python3.9/site-packages/pandas/core/frame.py:3607: SettingWithCopyWarning: \n",
      "A value is trying to be set on a copy of a slice from a DataFrame.\n",
      "Try using .loc[row_indexer,col_indexer] = value instead\n",
      "\n",
      "See the caveats in the documentation: https://pandas.pydata.org/pandas-docs/stable/user_guide/indexing.html#returning-a-view-versus-a-copy\n",
      "  self._set_item(key, value)\n"
     ]
    }
   ],
   "source": [
    "intakedf = shape[shape[\"name\"].isin(countries)]\n",
    "intakedf['centroid_col'] = intakedf.centroid\n",
    "intakedf = intakedf.set_geometry('centroid_col')\n",
    "intakedf = intakedf.drop(\"geometry\", axis=1)"
   ]
  },
  {
   "cell_type": "code",
   "execution_count": 18,
   "id": "83849195-7d11-48b8-8e88-f83439cdb3d2",
   "metadata": {},
   "outputs": [
    {
     "data": {
      "text/html": [
       "<div>\n",
       "<style scoped>\n",
       "    .dataframe tbody tr th:only-of-type {\n",
       "        vertical-align: middle;\n",
       "    }\n",
       "\n",
       "    .dataframe tbody tr th {\n",
       "        vertical-align: top;\n",
       "    }\n",
       "\n",
       "    .dataframe thead th {\n",
       "        text-align: right;\n",
       "    }\n",
       "</style>\n",
       "<table border=\"1\" class=\"dataframe\">\n",
       "  <thead>\n",
       "    <tr style=\"text-align: right;\">\n",
       "      <th></th>\n",
       "      <th>pop_est</th>\n",
       "      <th>continent</th>\n",
       "      <th>name</th>\n",
       "      <th>iso_a3</th>\n",
       "      <th>gdp_md_est</th>\n",
       "      <th>Longitude</th>\n",
       "      <th>Latitude</th>\n",
       "      <th>intake</th>\n",
       "      <th>visa</th>\n",
       "      <th>centroid_col</th>\n",
       "    </tr>\n",
       "  </thead>\n",
       "  <tbody>\n",
       "    <tr>\n",
       "      <th>0</th>\n",
       "      <td>142257519.0</td>\n",
       "      <td>Europe</td>\n",
       "      <td>Russia</td>\n",
       "      <td>RUS</td>\n",
       "      <td>3745000.0</td>\n",
       "      <td>96.803318</td>\n",
       "      <td>61.961663</td>\n",
       "      <td>99300</td>\n",
       "      <td>No change</td>\n",
       "      <td>POINT (96.80332 61.96166)</td>\n",
       "    </tr>\n",
       "    <tr>\n",
       "      <th>5</th>\n",
       "      <td>9549747.0</td>\n",
       "      <td>Europe</td>\n",
       "      <td>Belarus</td>\n",
       "      <td>BLR</td>\n",
       "      <td>165400.0</td>\n",
       "      <td>27.981353</td>\n",
       "      <td>53.506345</td>\n",
       "      <td>592</td>\n",
       "      <td>No change</td>\n",
       "      <td>POINT (27.98135 53.50634)</td>\n",
       "    </tr>\n",
       "    <tr>\n",
       "      <th>7</th>\n",
       "      <td>38476269.0</td>\n",
       "      <td>Europe</td>\n",
       "      <td>Poland</td>\n",
       "      <td>POL</td>\n",
       "      <td>1052000.0</td>\n",
       "      <td>19.311014</td>\n",
       "      <td>52.148260</td>\n",
       "      <td>1294903</td>\n",
       "      <td>Ukrainian nationals can enter without paperwork</td>\n",
       "      <td>POINT (19.31101 52.14826)</td>\n",
       "    </tr>\n",
       "    <tr>\n",
       "      <th>9</th>\n",
       "      <td>9850845.0</td>\n",
       "      <td>Europe</td>\n",
       "      <td>Hungary</td>\n",
       "      <td>HUN</td>\n",
       "      <td>267600.0</td>\n",
       "      <td>19.357629</td>\n",
       "      <td>47.199951</td>\n",
       "      <td>203222</td>\n",
       "      <td>Ukrainian nationals can enter without paperwork</td>\n",
       "      <td>POINT (19.35763 47.19995)</td>\n",
       "    </tr>\n",
       "    <tr>\n",
       "      <th>10</th>\n",
       "      <td>3474121.0</td>\n",
       "      <td>Europe</td>\n",
       "      <td>Moldova</td>\n",
       "      <td>MDA</td>\n",
       "      <td>18540.0</td>\n",
       "      <td>28.410483</td>\n",
       "      <td>47.203676</td>\n",
       "      <td>82762</td>\n",
       "      <td>Ukrainian nationals can enter without paperwork</td>\n",
       "      <td>POINT (28.41048 47.20368)</td>\n",
       "    </tr>\n",
       "    <tr>\n",
       "      <th>11</th>\n",
       "      <td>21529967.0</td>\n",
       "      <td>Europe</td>\n",
       "      <td>Romania</td>\n",
       "      <td>ROU</td>\n",
       "      <td>441000.0</td>\n",
       "      <td>24.943252</td>\n",
       "      <td>45.857101</td>\n",
       "      <td>85444</td>\n",
       "      <td>Ukrainian nationals can enter without paperwork</td>\n",
       "      <td>POINT (24.94325 45.85710)</td>\n",
       "    </tr>\n",
       "    <tr>\n",
       "      <th>39</th>\n",
       "      <td>5445829.0</td>\n",
       "      <td>Europe</td>\n",
       "      <td>Slovakia</td>\n",
       "      <td>SVK</td>\n",
       "      <td>168800.0</td>\n",
       "      <td>19.507657</td>\n",
       "      <td>48.726711</td>\n",
       "      <td>153303</td>\n",
       "      <td>Ukrainian nationals can enter without paperwork</td>\n",
       "      <td>POINT (19.50766 48.72671)</td>\n",
       "    </tr>\n",
       "  </tbody>\n",
       "</table>\n",
       "</div>"
      ],
      "text/plain": [
       "        pop_est continent      name iso_a3  gdp_md_est  Longitude   Latitude  \\\n",
       "0   142257519.0    Europe    Russia    RUS   3745000.0  96.803318  61.961663   \n",
       "5     9549747.0    Europe   Belarus    BLR    165400.0  27.981353  53.506345   \n",
       "7    38476269.0    Europe    Poland    POL   1052000.0  19.311014  52.148260   \n",
       "9     9850845.0    Europe   Hungary    HUN    267600.0  19.357629  47.199951   \n",
       "10    3474121.0    Europe   Moldova    MDA     18540.0  28.410483  47.203676   \n",
       "11   21529967.0    Europe   Romania    ROU    441000.0  24.943252  45.857101   \n",
       "39    5445829.0    Europe  Slovakia    SVK    168800.0  19.507657  48.726711   \n",
       "\n",
       "     intake                                             visa  \\\n",
       "0     99300                                        No change   \n",
       "5       592                                        No change   \n",
       "7   1294903  Ukrainian nationals can enter without paperwork   \n",
       "9    203222  Ukrainian nationals can enter without paperwork   \n",
       "10    82762  Ukrainian nationals can enter without paperwork   \n",
       "11    85444  Ukrainian nationals can enter without paperwork   \n",
       "39   153303  Ukrainian nationals can enter without paperwork   \n",
       "\n",
       "                 centroid_col  \n",
       "0   POINT (96.80332 61.96166)  \n",
       "5   POINT (27.98135 53.50634)  \n",
       "7   POINT (19.31101 52.14826)  \n",
       "9   POINT (19.35763 47.19995)  \n",
       "10  POINT (28.41048 47.20368)  \n",
       "11  POINT (24.94325 45.85710)  \n",
       "39  POINT (19.50766 48.72671)  "
      ]
     },
     "execution_count": 18,
     "metadata": {},
     "output_type": "execute_result"
    }
   ],
   "source": [
    "intakedf"
   ]
  },
  {
   "cell_type": "code",
   "execution_count": 19,
   "id": "1228f417-9192-48b4-a7c7-01dbaeb08d85",
   "metadata": {},
   "outputs": [],
   "source": [
    "intakedf.to_file(\"intake.geojson\", driver='GeoJSON')"
   ]
  },
  {
   "cell_type": "markdown",
   "id": "cb2f8fcb-e539-4be5-9436-dba943ae7cd3",
   "metadata": {},
   "source": [
    "# 3. Get outline geom"
   ]
  },
  {
   "cell_type": "code",
   "execution_count": 20,
   "id": "20f22eb8-82ec-43e5-bed9-d44780eef42d",
   "metadata": {},
   "outputs": [],
   "source": [
    "outlinedf = shape\n",
    "outlinedf['outline'] = outlinedf.boundary\n",
    "outlinedf = outlinedf.set_geometry('outline')\n",
    "outlinedf = outlinedf.drop(\"geometry\", axis=1)"
   ]
  },
  {
   "cell_type": "code",
   "execution_count": 21,
   "id": "d85a47fa-4068-4849-b153-2e3b64a86aac",
   "metadata": {},
   "outputs": [],
   "source": [
    "outlinedf.to_file(\"outline.geojson\", driver='GeoJSON')"
   ]
  },
  {
   "cell_type": "markdown",
   "id": "105c4bbf-29e9-4bd4-9764-7890c3bae1ae",
   "metadata": {},
   "source": [
    "# 4. Creat different GeoJSON for each visa type"
   ]
  },
  {
   "cell_type": "code",
   "execution_count": 22,
   "id": "1a04b5bd-f131-49d5-a4d7-d900b9ed6d3c",
   "metadata": {},
   "outputs": [
    {
     "data": {
      "text/plain": [
       "array(['No change',\n",
       "       'EU directive: All Ukrainian refugees can remain for up to three years without having to apply for asylum first.',\n",
       "       '', 'Ukrainian nationals can enter without paperwork',\n",
       "       'Relaxing visa requirements for close relatives.',\n",
       "       'Prioritising Ukrainian asylum applications'], dtype=object)"
      ]
     },
     "execution_count": 22,
     "metadata": {},
     "output_type": "execute_result"
    }
   ],
   "source": [
    "shape[\"visa\"].unique()"
   ]
  },
  {
   "cell_type": "code",
   "execution_count": 23,
   "id": "3c8633d5-443e-408c-9463-8ae8bbc938ad",
   "metadata": {},
   "outputs": [],
   "source": [
    "shape = shape.drop(\"outline\", axis=1)"
   ]
  },
  {
   "cell_type": "code",
   "execution_count": 24,
   "id": "a984a6eb-6f92-4261-8875-7895f913b5a0",
   "metadata": {},
   "outputs": [],
   "source": [
    "eu = [\"EU directive: All Ukrainian refugees can remain for up to three years without having to apply for asylum first.\"]\n",
    "eudf = shape[shape[\"visa\"]==\"EU directive: All Ukrainian refugees can remain for up to three years without having to apply for asylum first.\"]\n",
    "eudf.to_file(\"eu.geojson\", driver=\"GeoJSON\")"
   ]
  },
  {
   "cell_type": "code",
   "execution_count": 25,
   "id": "a0258d81-5149-4f0e-abfa-65f78c023060",
   "metadata": {},
   "outputs": [],
   "source": [
    "no = [\"No change\"]\n",
    "nodf = shape[shape[\"visa\"]==\"No change\"]\n",
    "nodf.to_file(\"no.geojson\", driver=\"GeoJSON\")"
   ]
  },
  {
   "cell_type": "code",
   "execution_count": 26,
   "id": "16942246-6351-4372-bb8b-03596ce83bae",
   "metadata": {},
   "outputs": [],
   "source": [
    "other = ['Relaxing visa requirements for close relatives.',\n",
    "       'Prioritising Ukrainian asylum applications']\n",
    "\n",
    "otherdf = shape[shape[\"visa\"].isin(other)]\n",
    "otherdf.to_file(\"other.geojson\", driver=\"GeoJSON\")"
   ]
  },
  {
   "cell_type": "code",
   "execution_count": 27,
   "id": "9a37f7c9-7781-4f31-9c6a-a15936a48a73",
   "metadata": {},
   "outputs": [],
   "source": [
    "firstdf = shape[shape[\"visa\"]==\"Ukrainian nationals can enter without paperwork\"]\n",
    "firstdf.to_file(\"first.geojson\", driver=\"GeoJSON\")"
   ]
  },
  {
   "cell_type": "markdown",
   "id": "2ee10caf-7fa0-4b17-a3df-df6ce8781f75",
   "metadata": {},
   "source": [
    "# 5. Create internal displaced geojson"
   ]
  },
  {
   "cell_type": "code",
   "execution_count": 28,
   "id": "c2dc155b-4b0f-4ddb-842d-1a8c2d759348",
   "metadata": {},
   "outputs": [],
   "source": [
    "ukraine = gpd.read_file(\"ukr_admbnda_adm1_sspe_20220114.shp\")\n",
    "idp = pd.read_csv(\"idp_estimation.csv\")"
   ]
  },
  {
   "cell_type": "code",
   "execution_count": 30,
   "id": "c0bc0635-5e48-4d07-aa8b-5ef2f2e9d0b9",
   "metadata": {},
   "outputs": [],
   "source": [
    "idp = idp.rename(columns={\"Oblasta\":\"ADM1_EN\"})"
   ]
  },
  {
   "cell_type": "code",
   "execution_count": 32,
   "id": "4b40c8cf-424c-4009-b242-b89b386d2c4e",
   "metadata": {},
   "outputs": [],
   "source": [
    "# Merge\n",
    "\n",
    "ukraine_idp = pd.merge(ukraine, idp, on=\"ADM1_EN\", how=\"right\")"
   ]
  },
  {
   "cell_type": "code",
   "execution_count": 36,
   "id": "f24698e2-69a3-48c9-8462-32e3c4694c09",
   "metadata": {},
   "outputs": [
    {
     "data": {
      "text/plain": [
       "<AxesSubplot:>"
      ]
     },
     "execution_count": 36,
     "metadata": {},
     "output_type": "execute_result"
    },
    {
     "data": {
      "image/png": "[encoded data removed]",
      "text/plain": [
       "<Figure size 720x432 with 1 Axes>"
      ]
     },
     "metadata": {
      "needs_background": "light"
     },
     "output_type": "display_data"
    }
   ],
   "source": [
    "fig, ax = plt.subplots(1, figsize=(10, 6))\n",
    "ukraine_idp.plot(column=\"IDP\", cmap=\"Blues\", linewidth=0.8, ax=ax, edgecolor=\"0.8\", zorder=3)\n",
    "ukraine.plot(ax=ax, zorder=2, color=\"red\")"
   ]
  },
  {
   "cell_type": "code",
   "execution_count": 37,
   "id": "77c5aaac-dd59-492a-99f1-54f31afbc109",
   "metadata": {},
   "outputs": [],
   "source": [
    "ukraine_idp.to_file(\"idp.geojson\", driver=\"GeoJSON\")"
   ]
  }
 ],
 "metadata": {
  "kernelspec": {
   "display_name": "Python 3 (ipykernel)",
   "language": "python",
   "name": "python3"
  },
  "language_info": {
   "codemirror_mode": {
    "name": "ipython",
    "version": 3
   },
   "file_extension": ".py",
   "mimetype": "text/x-python",
   "name": "python",
   "nbconvert_exporter": "python",
   "pygments_lexer": "ipython3",
   "version": "3.9.6"
  }
 },
 "nbformat": 4,
 "nbformat_minor": 5
}
